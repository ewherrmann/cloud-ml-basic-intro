{
 "cells": [
  {
   "cell_type": "markdown",
   "metadata": {},
   "source": [
    "# Building Blocks"
   ]
  },
  {
   "cell_type": "markdown",
   "metadata": {},
   "source": [
    "### Jupyter Notebook\n",
    "Jupyter Notebook is one of the most popular development environments for data scientists. As the name implies, it's meant to be a notebook of sorts where you can quickly jot down ideas, experiment, and see results. It's not typically used for production although there are projects available aim to make notebooks accessible in production environments."
   ]
  },
  {
   "cell_type": "markdown",
   "metadata": {},
   "source": [
    "---\n",
    "A notebook contains individual cells which can be used either for an executable block of code or markdown enabled text for notes. Each cell can be toggled between Code and Markdown from the menu. \n",
    "\n",
    "This cell is set to Markdown and can be formatted with **bold**, *italic*, <font color=\"blue\">colors</font>, etc. This allows for creation of beautifully documented live experimentation and analysis. To view in Markdown mode, highlight the cell, and click \"run selected cells and advance\" button on the top menu or by using `SHIFT`+`RETURN` on your keyboard. Double click anywhere in the cell to toggle back to edit mode.\n",
    "\n",
    "For more information on Markdown https://www.markdownguide.org/cheat-sheet/"
   ]
  },
  {
   "cell_type": "code",
   "execution_count": null,
   "metadata": {},
   "outputs": [],
   "source": [
    "##This is a code cell used to create and execute blocks of python code. To execute this code and view output, select and run this cell.\n",
    "\n",
    "# Use the print statement to show output\n",
    "print(\"hello world\")\n",
    "\n",
    "# Print can also be used with functions\n",
    "foo = \"hello\"\n",
    "print(\" \".join([foo, \"world\"]))\n",
    "\n",
    "# Not just for strings\n",
    "print(1+3)\n",
    "\n",
    "# The last line to be evaluated will also be shown in the output\n",
    "f'The length of foo is {len(foo)}'\n",
    "\n",
    "## Notes\n",
    "# You can change the code and rerun it to see any changed output.\n",
    "# You can right click inside the cell for options, including \"clear output\""
   ]
  },
  {
   "cell_type": "markdown",
   "metadata": {},
   "source": [
    "Variables set in a cell are available throughout the notebook, not just the cell in which they are created. However, individual cells do not have to be run from top to bottom or in any certain order, so the variable will only be available if the cell has been ran/executed in the current session.\n",
    "\n",
    "Run the cell below and you will see that `foo` can be used, but trying to access `bar` will throw an error since it has yet to be defined."
   ]
  },
  {
   "cell_type": "code",
   "execution_count": null,
   "metadata": {},
   "outputs": [],
   "source": [
    "print(foo)\n",
    "print(bar)"
   ]
  },
  {
   "cell_type": "markdown",
   "metadata": {},
   "source": [
    "Now run the cell below and then rerun the one above and see that `bar` is now available"
   ]
  },
  {
   "cell_type": "code",
   "execution_count": null,
   "metadata": {},
   "outputs": [],
   "source": [
    "bar = \"world\""
   ]
  },
  {
   "cell_type": "markdown",
   "metadata": {},
   "source": [
    "This was a quick and relatively shallow overview of Jupyter Notebooks, but it should be enough to help you start navigating and getting hands-on with the fun stuff. To find out more, visit https://jupyter.org/"
   ]
  },
  {
   "cell_type": "markdown",
   "metadata": {},
   "source": [
    "### NumPy"
   ]
  },
  {
   "cell_type": "markdown",
   "metadata": {},
   "source": [
    "NumPy is heavily used in python when dealing with data science and machine learning projects. It's a super efficient tool for creating and processing multi dimensional arrays.\n",
    "\n",
    "Below is an example of a simple, one dimensional array"
   ]
  },
  {
   "cell_type": "code",
   "execution_count": null,
   "metadata": {},
   "outputs": [],
   "source": [
    "import numpy as np\n",
    "\n",
    "simple_array = np.array([5, 10])\n",
    "print(f'simple array contents: {simple_array}')\n",
    "print(f'simple array shape: {simple_array.shape}')\n",
    "print(f'simple array cell content by index: {simple_array[0]}')"
   ]
  },
  {
   "cell_type": "markdown",
   "metadata": {},
   "source": [
    "Numpy's strength lies within it's ability to process large, multi-dimensional arrays"
   ]
  },
  {
   "cell_type": "code",
   "execution_count": null,
   "metadata": {},
   "outputs": [],
   "source": [
    "import string\n",
    "multi_array = np.array([list(string.ascii_lowercase), list(range(26))], dtype=object)\n",
    "print(f'multi array contents: {multi_array}')\n",
    "print(f'multi array shape: {multi_array.shape}')\n",
    "print(f'multi array cell content by index: {multi_array[0][0]}')"
   ]
  },
  {
   "cell_type": "markdown",
   "metadata": {},
   "source": [
    "- Numpy arrays are optimized for memory usage and size is defined up at declaration. If you want to append an unknown amount of items dynamically, a native Python structure may be a better fit\n",
    "- Numpy can math\n",
    "\n",
    "Numpy is very powerful. Find more info https://numpy.org/doc/stable/user/quickstart.html#the-basics"
   ]
  },
  {
   "cell_type": "code",
   "execution_count": null,
   "metadata": {},
   "outputs": [],
   "source": [
    "#define array up front with empty or zeros\n",
    "#do some math on array 1\n",
    "#numpy array 1 * numpy array 2"
   ]
  },
  {
   "cell_type": "markdown",
   "metadata": {},
   "source": [
    "### Pandas"
   ]
  },
  {
   "cell_type": "markdown",
   "metadata": {},
   "source": [
    "Pandas is like a small, in-memory database that allows for processing data. Internally, it utilizes numpy, but adds some convenient query and data access. One very common usage is to import and export CSV files to and from a Pandas DataFrame. Pandas has a domain specific language to itself, so you should keep the documentation handy! https://pandas.pydata.org/docs/reference/\n",
    "\n",
    "The two main Pandas data structures are Series and DataFrame. A Series is a labeled one-dimensional array and a DataFrame is a two dimensional array with rows, columns, and labels. All individual rows and columns of a DataFrame are made up of individual Series."
   ]
  },
  {
   "cell_type": "code",
   "execution_count": null,
   "metadata": {},
   "outputs": [],
   "source": [
    "import pandas as pd"
   ]
  },
  {
   "cell_type": "code",
   "execution_count": null,
   "metadata": {},
   "outputs": [],
   "source": [
    "#Create series from Lists\n",
    "egeeks = ['Thomas','Rich','Craig','Dan','Ed']\n",
    "size_srs = pd.Series([12,8,10,8,13],index=egeeks, name='Ring Size')\n",
    "print(size_srs)\n",
    "print(type(size_srs))\n",
    "#access series data by index \n",
    "print(f\"Rich's ring size is {size_srs['Rich']}\")"
   ]
  },
  {
   "cell_type": "code",
   "execution_count": null,
   "metadata": {},
   "outputs": [],
   "source": [
    "#Create series from Dictionary\n",
    "state_srs = pd.Series({\"Thomas\": \"Indiana\", \"Rich\": \"Pennsylvania\", \"Craig\": \"North Rhine-Westphalia\", \"Dan\": \"New York\", \"Ed\":\"Indiana\"}, name=\"State\")\n",
    "print(state_srs)\n",
    "print(type(state_srs))\n",
    "print(f\"Thomas lives in {state_srs['Thomas']}\")"
   ]
  },
  {
   "cell_type": "code",
   "execution_count": null,
   "metadata": {},
   "outputs": [],
   "source": [
    "#Concatenate multiple series as columns (axis=1) to create new dataframe\n",
    "egeeks_df = pd.concat([ring_size_srs, state_srs], axis=1) \n",
    "print(egeeks_df)\n",
    "print(type(egeeks_df))\n",
    "print(f\"Rich lives in {egeeks_df.loc['Rich']['State']}\")"
   ]
  },
  {
   "cell_type": "code",
   "execution_count": null,
   "metadata": {},
   "outputs": [],
   "source": [
    "#individual row of a DataFrame is a Series\n",
    "print(egeeks_df.loc['Thomas'])\n",
    "print(type(egeeks_df.loc['Thomas']))"
   ]
  },
  {
   "cell_type": "code",
   "execution_count": null,
   "metadata": {},
   "outputs": [],
   "source": [
    "#individual column of a DataFrame is a Series\n",
    "print(egeeks_df['Ring Size'])\n",
    "print(type(egeeks_df['Ring Size']))"
   ]
  },
  {
   "cell_type": "code",
   "execution_count": null,
   "metadata": {},
   "outputs": [],
   "source": [
    "#add column from List\n",
    "egeeks_df['City'] = ['Jasper', 'York', 'Lippstadt', 'New York', 'New Albany']\n",
    "print(egeeks_df)"
   ]
  },
  {
   "cell_type": "code",
   "execution_count": null,
   "metadata": {},
   "outputs": [],
   "source": [
    "#add column with single value\n",
    "egeeks_df['Favorite Language'] = 'ABAP'\n",
    "print(egeeks_df)"
   ]
  },
  {
   "cell_type": "code",
   "execution_count": null,
   "metadata": {},
   "outputs": [],
   "source": [
    "egeeks_df.to_csv('egeeks_data.csv', index_label='Name') #give index a label for csv column"
   ]
  },
  {
   "cell_type": "code",
   "execution_count": null,
   "metadata": {},
   "outputs": [],
   "source": [
    "egeeks_df = None\n",
    "egeeks_df = pd.read_csv('egeeks_data.csv', index_col='Name') #specify which column to use as index\n",
    "print(egeeks_df)"
   ]
  },
  {
   "cell_type": "code",
   "execution_count": null,
   "metadata": {},
   "outputs": [],
   "source": []
  },
  {
   "cell_type": "code",
   "execution_count": null,
   "metadata": {},
   "outputs": [],
   "source": [
    "print(egeeks_df.loc[egeeks_df['State'] == 'Indiana'])\n",
    "print(egeeks_df.loc[egeeks_df['Ring Size'] > 8])"
   ]
  },
  {
   "cell_type": "markdown",
   "metadata": {},
   "source": [
    "# Data Science"
   ]
  },
  {
   "cell_type": "markdown",
   "metadata": {},
   "source": [
    "1. Load data - find existing dataset and keep it in folder. WIth Bindr, supposedly can load in a notebook and data files directly from Github\n",
    "0. Preprocess Data bigrams, tokenization (should this be a separate step or maybe included in the pipeline properly)\n",
    "0. Vectorize Data (Data Science alert -- vectors) - high level on custom vectorization but maybe use glove?\n",
    "0. Train - split\n",
    "0. Save model as pipeline\n",
    "0. Load model as pipeline\n",
    "0. Predict on different dataset\n",
    "0. Confusion Matrix\n",
    "0. Logistic regression chart?"
   ]
  },
  {
   "cell_type": "markdown",
   "metadata": {},
   "source": [
    "Yoda / Not Yoda\n",
    "https://www.kaggle.com/stefanocoretta/yoda-speech-corpus\n",
    "\n",
    "The purpose of our tutorial is to demystify ML/NLP, so we will use the most simple use cases as possible. There is many nuances and advanced techniques for increasing accuracy, including methods for preprocessing, tokenization, vectorization, building models, and the list goes on. \n",
    "\n",
    "scikit-learn tutorial \"Working With Text Data\"\n",
    "https://scikit-learn.org/stable/tutorial/text_analytics/working_with_text_data.html"
   ]
  },
  {
   "cell_type": "markdown",
   "metadata": {},
   "source": [
    "### Load and Prep Data"
   ]
  },
  {
   "cell_type": "code",
   "execution_count": null,
   "metadata": {},
   "outputs": [],
   "source": [
    "sw_df = pd.read_csv('yoda-corpus.csv')\n",
    "print(len(sw_df))"
   ]
  },
  {
   "cell_type": "code",
   "execution_count": null,
   "metadata": {},
   "outputs": [],
   "source": [
    "#lets take a peek at the first 20 lines of the dataset\n",
    "sw_df[0:20] "
   ]
  },
  {
   "cell_type": "code",
   "execution_count": null,
   "metadata": {},
   "outputs": [],
   "source": [
    "#Let's take out any rows we won't be using\n",
    "yoda_df = sw_df.loc[sw_df['component'] == 'character']\n",
    "print(len(yoda_df))"
   ]
  },
  {
   "cell_type": "code",
   "execution_count": null,
   "metadata": {},
   "outputs": [],
   "source": [
    "#how many lines with Yoda and Not Yoda. We can ignore lines where component column != 'character' since they aren't actual spoken movie lines\n",
    "print(f\"Yoda:\", len(yoda_df.loc[yoda_df['character'] == 'YODA']))\n",
    "print(f\"Not Yoda:\", len(yoda_df.loc[yoda_df['character'] != 'YODA']))"
   ]
  },
  {
   "cell_type": "code",
   "execution_count": null,
   "metadata": {},
   "outputs": [],
   "source": [
    "#For simplicity, let's also just use the columns we need for processing\n",
    "yoda_df = yoda_df[['character', 'text']]\n",
    "yoda_df[0:20]"
   ]
  },
  {
   "cell_type": "code",
   "execution_count": null,
   "metadata": {},
   "outputs": [],
   "source": [
    "#Evaluating a Series of data will return a Series of booleans\n",
    "print((yoda_df['character'] == 'YODA')[0:20])"
   ]
  },
  {
   "cell_type": "code",
   "execution_count": null,
   "metadata": {},
   "outputs": [],
   "source": [
    "#Add a column to specify boolean value if character is yoda or not yoda. We will see why we are doing this in a later step\n",
    "yoda_df['is_yoda'] = (yoda_df['character'] == 'YODA').astype(int)\n",
    "yoda_df[0:20]\n",
    "#How cool was that?"
   ]
  },
  {
   "cell_type": "code",
   "execution_count": null,
   "metadata": {},
   "outputs": [],
   "source": []
  },
  {
   "cell_type": "markdown",
   "metadata": {},
   "source": [
    "### Vectorization\n",
    "TODO: SUMMARIZE\n",
    "\n",
    "In order to perform machine learning on text documents, we first need to turn the text content into numerical feature vectors.\n",
    "\n",
    "Text preprocessing, tokenizing and filtering of stopwords are all included in CountVectorizer, which builds a dictionary of features and transforms documents to feature vectors:\n",
    "\n",
    "TF-IDF (Term Frequency times Inverse Document Frequency) is a way of adjusting the importance or weight of individual terms in relation to all of the terms and frequencies of the entire dataset. To do this, it takes word/term counts from our count_vectorizer and downscaling:\n",
    "- TF: Adjusting importance of a term by dividing it's frequency by total number of terms in the data \n",
    "- IDF: Lowering importance of very common words that occur very frequently in both Yoda and Not Yoda data"
   ]
  },
  {
   "cell_type": "code",
   "execution_count": null,
   "metadata": {},
   "outputs": [],
   "source": []
  },
  {
   "cell_type": "markdown",
   "metadata": {},
   "source": [
    "\n"
   ]
  },
  {
   "cell_type": "code",
   "execution_count": null,
   "metadata": {},
   "outputs": [],
   "source": []
  },
  {
   "cell_type": "code",
   "execution_count": null,
   "metadata": {},
   "outputs": [],
   "source": [
    "from sklearn.feature_extraction.text import TfidfVectorizer\n",
    "tfidf_vectorizer = TfidfVectorizer(stop_words=\"english\")\n",
    "#stop words are common words that deserve no weighting like \"a\"\n",
    "tfidf_vectorizer.fit(yoda_df['text'])"
   ]
  },
  {
   "cell_type": "code",
   "execution_count": null,
   "metadata": {},
   "outputs": [],
   "source": [
    "#What does it look like tokenized?\n",
    "yoda_line = yoda_df.iloc[1]['text']\n",
    "print(\"Original text:\", yoda_line)\n",
    "print(\"Tokenized text:\", tfidf_vectorizer.build_tokenizer()(yoda_line))\n",
    "print(\"Vectorized representation of text\\n\", tfidf_vectorizer.transform([yoda_line,]))"
   ]
  },
  {
   "cell_type": "markdown",
   "metadata": {},
   "source": [
    "### (PROBABLY DELETE) Side Note: Scikit-Learn Object Interface\n",
    "Don't want to spend a lot of time, but want to point out that you may have noticed that both `CountVectorizer` and `TfidfVectorizer` have the same method `fit_transform`. While the goal of this tutorial is to serve as a general ML primer and not a Scikit-learn lesson, it's still important to note that most Scikit-learn objects share common interfaces and standards, which come in very handy when dealing with the many objects in the toolchain and also if you want to create your own custom object.  \n",
    "\n",
    "Scikit-learn Glossary of Common Terms and API Elements\n",
    "\n",
    "https://scikit-learn.org/stable/glossary.html"
   ]
  },
  {
   "cell_type": "code",
   "execution_count": null,
   "metadata": {},
   "outputs": [],
   "source": []
  },
  {
   "cell_type": "markdown",
   "metadata": {},
   "source": [
    "### Train a classifier model\n",
    "Time to get into the fun stuff, training a machine learning model! Lets train a simple Logistic Regression classifier."
   ]
  },
  {
   "cell_type": "code",
   "execution_count": null,
   "metadata": {},
   "outputs": [],
   "source": [
    "elon_df = pd.read_csv('data_elonmusk.csv', encoding='latin1')\n",
    "print('Elon Tweets and Retweets:', len(elon_df))\n",
    "elon_df[0:20]"
   ]
  },
  {
   "cell_type": "code",
   "execution_count": null,
   "metadata": {},
   "outputs": [],
   "source": [
    "#create a new dataframe with only original tweets\n",
    "elon_clean_df = pd.DataFrame(elon_df.loc[elon_df['Retweet from'].isnull()]['Tweet'].tolist(), columns=['text',])\n",
    "elon_clean_df['who said it'] = 'Elon Musk'\n",
    "print('Elon Tweets', len(elon_clean_df))\n",
    "elon_clean_df[0:20] "
   ]
  },
  {
   "cell_type": "code",
   "execution_count": null,
   "metadata": {},
   "outputs": [],
   "source": [
    "elon_clean_df['dialogue'] = elon_clean_df['text']\n",
    "#remove URLs using regex\n",
    "elon_clean_df['dialogue'] = elon_clean_df['dialogue'].str.replace(r\"http\\S+\", \"\")\n",
    "elon_clean_df['dialogue'] = elon_clean_df['dialogue'].str.replace(r\"http\", \"\")\n",
    "#remove @ mentions using regex\n",
    "elon_clean_df['dialogue'] = elon_clean_df['dialogue'].str.replace(r\"@\\S+\", \"\")\n",
    "#replace any line breaks with spaces \n",
    "elon_clean_df['dialogue'] = elon_clean_df['dialogue'].str.replace(r\"\\n\", \" \")\n",
    "#convert to lowercase\n",
    "# elon_clean_df['text_clean'] = elon_clean_df['text_clean'].str.lower()\n",
    "elon_clean_df[0:20]"
   ]
  },
  {
   "cell_type": "code",
   "execution_count": null,
   "metadata": {},
   "outputs": [],
   "source": []
  },
  {
   "cell_type": "code",
   "execution_count": null,
   "metadata": {},
   "outputs": [],
   "source": []
  },
  {
   "cell_type": "code",
   "execution_count": null,
   "metadata": {},
   "outputs": [],
   "source": [
    "hope_df = pd.read_csv('SW_EpisodeIV.txt', delim_whitespace=True, names=[\"id\",\"character\",\"dialogue\"], index_col=\"id\", skiprows=[0,])\n",
    "emp_df = pd.read_csv('SW_EpisodeV.txt', delim_whitespace=True, names=[\"id\",\"character\",\"dialogue\"], index_col=\"id\", skiprows=[0,])\n",
    "jedi_df = pd.read_csv('SW_EpisodeVI.txt', delim_whitespace=True, names=[\"id\",\"character\",\"dialogue\"], index_col=\"id\", skiprows=[0,])\n",
    "sw_df = pd.concat([hope_df, emp_df, jedi_df]) #combine into one dataframe\n",
    "print('Total Star Wars movie lines: ', len(sw_df))\n",
    "sw_df[0:20]"
   ]
  },
  {
   "cell_type": "code",
   "execution_count": null,
   "metadata": {},
   "outputs": [],
   "source": [
    "sw_df['who said it'] = 'Star Wars'\n",
    "sw_df[0:20]"
   ]
  },
  {
   "cell_type": "code",
   "execution_count": null,
   "metadata": {},
   "outputs": [],
   "source": [
    "all_df = pd.concat([elon_clean_df[['dialogue', 'who said it']], sw_df[['dialogue', 'who said it']]])\n",
    "all_df[0:20]\n",
    "all_df[0:-20] #view last 20 lines"
   ]
  },
  {
   "cell_type": "code",
   "execution_count": null,
   "metadata": {},
   "outputs": [],
   "source": []
  },
  {
   "cell_type": "code",
   "execution_count": 426,
   "metadata": {},
   "outputs": [
    {
     "data": {
      "text/plain": [
       "TfidfVectorizer(analyzer='word', binary=False, decode_error='strict',\n",
       "        dtype=<class 'numpy.int64'>, encoding='utf-8', input='content',\n",
       "        lowercase=True, max_df=1.0, max_features=None, min_df=1,\n",
       "        ngram_range=(1, 1), norm='l2', preprocessor=None, smooth_idf=True,\n",
       "        stop_words='english', strip_accents=None, sublinear_tf=False,\n",
       "        token_pattern='(?u)\\\\b\\\\w\\\\w+\\\\b', tokenizer=None, use_idf=True,\n",
       "        vocabulary=None)"
      ]
     },
     "execution_count": 426,
     "metadata": {},
     "output_type": "execute_result"
    }
   ],
   "source": [
    "from sklearn.feature_extraction.text import TfidfVectorizer\n",
    "tfidf_vectorizer = TfidfVectorizer(stop_words=\"english\")\n",
    "#stop words are common words that deserve no weighting like \"a\"\n",
    "tfidf_vectorizer.fit(all_df['dialogue'])"
   ]
  },
  {
   "cell_type": "code",
   "execution_count": 427,
   "metadata": {},
   "outputs": [
    {
     "name": "stdout",
     "output_type": "stream",
     "text": [
      "All data: 5216\n",
      "Train data: 4172\n",
      "Test data: 1044\n"
     ]
    },
    {
     "data": {
      "text/html": [
       "<div>\n",
       "<style scoped>\n",
       "    .dataframe tbody tr th:only-of-type {\n",
       "        vertical-align: middle;\n",
       "    }\n",
       "\n",
       "    .dataframe tbody tr th {\n",
       "        vertical-align: top;\n",
       "    }\n",
       "\n",
       "    .dataframe thead th {\n",
       "        text-align: right;\n",
       "    }\n",
       "</style>\n",
       "<table border=\"1\" class=\"dataframe\">\n",
       "  <thead>\n",
       "    <tr style=\"text-align: right;\">\n",
       "      <th></th>\n",
       "      <th>dialogue</th>\n",
       "      <th>who said it</th>\n",
       "    </tr>\n",
       "  </thead>\n",
       "  <tbody>\n",
       "    <tr>\n",
       "      <th>2317</th>\n",
       "      <td>Hyperloop Alpha at  and</td>\n",
       "      <td>Elon Musk</td>\n",
       "    </tr>\n",
       "    <tr>\n",
       "      <th>2598</th>\n",
       "      <td>Orbit raising burn successful. Dragon back on ...</td>\n",
       "      <td>Elon Musk</td>\n",
       "    </tr>\n",
       "    <tr>\n",
       "      <th>2045</th>\n",
       "      <td>Falcon/Dragon launch punted to early Jan. Need...</td>\n",
       "      <td>Elon Musk</td>\n",
       "    </tr>\n",
       "    <tr>\n",
       "      <th>2620</th>\n",
       "      <td>Genius move ?  Well, to be fair, they did use ...</td>\n",
       "      <td>Elon Musk</td>\n",
       "    </tr>\n",
       "    <tr>\n",
       "      <th>2174</th>\n",
       "      <td>Tesla US business leasing program went live to...</td>\n",
       "      <td>Elon Musk</td>\n",
       "    </tr>\n",
       "    <tr>\n",
       "      <th>1337</th>\n",
       "      <td>true, good point</td>\n",
       "      <td>Elon Musk</td>\n",
       "    </tr>\n",
       "    <tr>\n",
       "      <th>441</th>\n",
       "      <td>I felt a great disturbance in the Force... as ...</td>\n",
       "      <td>Star Wars</td>\n",
       "    </tr>\n",
       "    <tr>\n",
       "      <th>821</th>\n",
       "      <td>Luke.</td>\n",
       "      <td>Star Wars</td>\n",
       "    </tr>\n",
       "    <tr>\n",
       "      <th>225</th>\n",
       "      <td>Just received verbal govt approval for The Bor...</td>\n",
       "      <td>Elon Musk</td>\n",
       "    </tr>\n",
       "    <tr>\n",
       "      <th>406</th>\n",
       "      <td>I beg your pardon, General Solo, but that just...</td>\n",
       "      <td>Star Wars</td>\n",
       "    </tr>\n",
       "    <tr>\n",
       "      <th>2493</th>\n",
       "      <td>Cool. Just read and watched!</td>\n",
       "      <td>Elon Musk</td>\n",
       "    </tr>\n",
       "    <tr>\n",
       "      <th>98</th>\n",
       "      <td>A midnight amendment, followed by a vigorously...</td>\n",
       "      <td>Elon Musk</td>\n",
       "    </tr>\n",
       "    <tr>\n",
       "      <th>434</th>\n",
       "      <td>I cannot teach him. The boy has no patience.</td>\n",
       "      <td>Star Wars</td>\n",
       "    </tr>\n",
       "    <tr>\n",
       "      <th>2692</th>\n",
       "      <td>Just returned from a trip to London and Oxford...</td>\n",
       "      <td>Elon Musk</td>\n",
       "    </tr>\n",
       "    <tr>\n",
       "      <th>2368</th>\n",
       "      <td>Bloomberg TV features debate of  vs some guy p...</td>\n",
       "      <td>Elon Musk</td>\n",
       "    </tr>\n",
       "    <tr>\n",
       "      <th>580</th>\n",
       "      <td>You will...</td>\n",
       "      <td>Star Wars</td>\n",
       "    </tr>\n",
       "    <tr>\n",
       "      <th>325</th>\n",
       "      <td>Artoo?</td>\n",
       "      <td>Star Wars</td>\n",
       "    </tr>\n",
       "    <tr>\n",
       "      <th>1245</th>\n",
       "      <td></td>\n",
       "      <td>Elon Musk</td>\n",
       "    </tr>\n",
       "    <tr>\n",
       "      <th>529</th>\n",
       "      <td>All right! Up! Move! Come on! Quickly! Quickly...</td>\n",
       "      <td>Star Wars</td>\n",
       "    </tr>\n",
       "    <tr>\n",
       "      <th>94</th>\n",
       "      <td>Whew...</td>\n",
       "      <td>Star Wars</td>\n",
       "    </tr>\n",
       "  </tbody>\n",
       "</table>\n",
       "</div>"
      ],
      "text/plain": [
       "                                               dialogue who said it\n",
       "2317                          Hyperloop Alpha at  and     Elon Musk\n",
       "2598  Orbit raising burn successful. Dragon back on ...   Elon Musk\n",
       "2045  Falcon/Dragon launch punted to early Jan. Need...   Elon Musk\n",
       "2620  Genius move ?  Well, to be fair, they did use ...   Elon Musk\n",
       "2174  Tesla US business leasing program went live to...   Elon Musk\n",
       "1337                                   true, good point   Elon Musk\n",
       "441   I felt a great disturbance in the Force... as ...   Star Wars\n",
       "821                                               Luke.   Star Wars\n",
       "225   Just received verbal govt approval for The Bor...   Elon Musk\n",
       "406   I beg your pardon, General Solo, but that just...   Star Wars\n",
       "2493                       Cool. Just read and watched!   Elon Musk\n",
       "98    A midnight amendment, followed by a vigorously...   Elon Musk\n",
       "434        I cannot teach him. The boy has no patience.   Star Wars\n",
       "2692  Just returned from a trip to London and Oxford...   Elon Musk\n",
       "2368  Bloomberg TV features debate of  vs some guy p...   Elon Musk\n",
       "580                                         You will...   Star Wars\n",
       "325                                              Artoo?   Star Wars\n",
       "1245                                                      Elon Musk\n",
       "529   All right! Up! Move! Come on! Quickly! Quickly...   Star Wars\n",
       "94                                              Whew...   Star Wars"
      ]
     },
     "execution_count": 427,
     "metadata": {},
     "output_type": "execute_result"
    }
   ],
   "source": [
    "#Let's hold back some data for testing our model using a handy sklearn method that will shuffle and split our data\n",
    "from sklearn.model_selection import train_test_split\n",
    "all_df_train, all_df_test = train_test_split(all_df, test_size=0.20)\n",
    "print(\"All data:\", len(all_df))\n",
    "print(\"Train data:\", len(all_df_train))\n",
    "print(\"Test data:\", len(all_df_test))\n",
    "all_df_test[0:20]"
   ]
  },
  {
   "cell_type": "code",
   "execution_count": 430,
   "metadata": {},
   "outputs": [
    {
     "data": {
      "text/plain": [
       "<4172x6619 sparse matrix of type '<class 'numpy.float64'>'\n",
       "\twith 23468 stored elements in Compressed Sparse Row format>"
      ]
     },
     "execution_count": 430,
     "metadata": {},
     "output_type": "execute_result"
    }
   ],
   "source": [
    "#Vectorize our training data just as we did in previous step\n",
    "dialogue_tfidf_train = tfidf_vectorizer.transform(all_df_train['dialogue'])\n",
    "dialogue_tfidf_train \n",
    "#You can see that the result is a matrix of 224 lines of vectorized data, one for each line in our training data"
   ]
  },
  {
   "cell_type": "code",
   "execution_count": 433,
   "metadata": {},
   "outputs": [],
   "source": [
    "#train our classifier model\n",
    "from sklearn.naive_bayes import MultinomialNB\n",
    "sw_elon_clf = MultinomialNB().fit(dialogue_tfidf_train, all_df_train['who said it'])"
   ]
  },
  {
   "cell_type": "code",
   "execution_count": 513,
   "metadata": {},
   "outputs": [
    {
     "name": "stderr",
     "output_type": "stream",
     "text": [
      "/Users/ewh/anaconda2/envs/eai36/lib/python3.6/site-packages/ipykernel_launcher.py:3: SettingWithCopyWarning: \n",
      "A value is trying to be set on a copy of a slice from a DataFrame.\n",
      "Try using .loc[row_indexer,col_indexer] = value instead\n",
      "\n",
      "See the caveats in the documentation: http://pandas.pydata.org/pandas-docs/stable/indexing.html#indexing-view-versus-copy\n",
      "  This is separate from the ipykernel package so we can avoid doing imports until\n"
     ]
    },
    {
     "data": {
      "text/html": [
       "<div>\n",
       "<style scoped>\n",
       "    .dataframe tbody tr th:only-of-type {\n",
       "        vertical-align: middle;\n",
       "    }\n",
       "\n",
       "    .dataframe tbody tr th {\n",
       "        vertical-align: top;\n",
       "    }\n",
       "\n",
       "    .dataframe thead th {\n",
       "        text-align: right;\n",
       "    }\n",
       "</style>\n",
       "<table border=\"1\" class=\"dataframe\">\n",
       "  <thead>\n",
       "    <tr style=\"text-align: right;\">\n",
       "      <th></th>\n",
       "      <th>dialogue</th>\n",
       "      <th>who said it</th>\n",
       "      <th>who said it prediction</th>\n",
       "    </tr>\n",
       "  </thead>\n",
       "  <tbody>\n",
       "    <tr>\n",
       "      <th>2317</th>\n",
       "      <td>Hyperloop Alpha at  and</td>\n",
       "      <td>Elon Musk</td>\n",
       "      <td>Elon Musk</td>\n",
       "    </tr>\n",
       "    <tr>\n",
       "      <th>2598</th>\n",
       "      <td>Orbit raising burn successful. Dragon back on ...</td>\n",
       "      <td>Elon Musk</td>\n",
       "      <td>Elon Musk</td>\n",
       "    </tr>\n",
       "    <tr>\n",
       "      <th>2045</th>\n",
       "      <td>Falcon/Dragon launch punted to early Jan. Need...</td>\n",
       "      <td>Elon Musk</td>\n",
       "      <td>Elon Musk</td>\n",
       "    </tr>\n",
       "    <tr>\n",
       "      <th>2620</th>\n",
       "      <td>Genius move ?  Well, to be fair, they did use ...</td>\n",
       "      <td>Elon Musk</td>\n",
       "      <td>Elon Musk</td>\n",
       "    </tr>\n",
       "    <tr>\n",
       "      <th>2174</th>\n",
       "      <td>Tesla US business leasing program went live to...</td>\n",
       "      <td>Elon Musk</td>\n",
       "      <td>Elon Musk</td>\n",
       "    </tr>\n",
       "    <tr>\n",
       "      <th>1337</th>\n",
       "      <td>true, good point</td>\n",
       "      <td>Elon Musk</td>\n",
       "      <td>Elon Musk</td>\n",
       "    </tr>\n",
       "    <tr>\n",
       "      <th>441</th>\n",
       "      <td>I felt a great disturbance in the Force... as ...</td>\n",
       "      <td>Star Wars</td>\n",
       "      <td>Star Wars</td>\n",
       "    </tr>\n",
       "    <tr>\n",
       "      <th>821</th>\n",
       "      <td>Luke.</td>\n",
       "      <td>Star Wars</td>\n",
       "      <td>Star Wars</td>\n",
       "    </tr>\n",
       "    <tr>\n",
       "      <th>225</th>\n",
       "      <td>Just received verbal govt approval for The Bor...</td>\n",
       "      <td>Elon Musk</td>\n",
       "      <td>Elon Musk</td>\n",
       "    </tr>\n",
       "    <tr>\n",
       "      <th>406</th>\n",
       "      <td>I beg your pardon, General Solo, but that just...</td>\n",
       "      <td>Star Wars</td>\n",
       "      <td>Star Wars</td>\n",
       "    </tr>\n",
       "    <tr>\n",
       "      <th>2493</th>\n",
       "      <td>Cool. Just read and watched!</td>\n",
       "      <td>Elon Musk</td>\n",
       "      <td>Elon Musk</td>\n",
       "    </tr>\n",
       "    <tr>\n",
       "      <th>98</th>\n",
       "      <td>A midnight amendment, followed by a vigorously...</td>\n",
       "      <td>Elon Musk</td>\n",
       "      <td>Star Wars</td>\n",
       "    </tr>\n",
       "    <tr>\n",
       "      <th>434</th>\n",
       "      <td>I cannot teach him. The boy has no patience.</td>\n",
       "      <td>Star Wars</td>\n",
       "      <td>Star Wars</td>\n",
       "    </tr>\n",
       "    <tr>\n",
       "      <th>2692</th>\n",
       "      <td>Just returned from a trip to London and Oxford...</td>\n",
       "      <td>Elon Musk</td>\n",
       "      <td>Elon Musk</td>\n",
       "    </tr>\n",
       "    <tr>\n",
       "      <th>2368</th>\n",
       "      <td>Bloomberg TV features debate of  vs some guy p...</td>\n",
       "      <td>Elon Musk</td>\n",
       "      <td>Elon Musk</td>\n",
       "    </tr>\n",
       "    <tr>\n",
       "      <th>580</th>\n",
       "      <td>You will...</td>\n",
       "      <td>Star Wars</td>\n",
       "      <td>Elon Musk</td>\n",
       "    </tr>\n",
       "    <tr>\n",
       "      <th>325</th>\n",
       "      <td>Artoo?</td>\n",
       "      <td>Star Wars</td>\n",
       "      <td>Star Wars</td>\n",
       "    </tr>\n",
       "    <tr>\n",
       "      <th>1245</th>\n",
       "      <td></td>\n",
       "      <td>Elon Musk</td>\n",
       "      <td>Elon Musk</td>\n",
       "    </tr>\n",
       "    <tr>\n",
       "      <th>529</th>\n",
       "      <td>All right! Up! Move! Come on! Quickly! Quickly...</td>\n",
       "      <td>Star Wars</td>\n",
       "      <td>Star Wars</td>\n",
       "    </tr>\n",
       "    <tr>\n",
       "      <th>94</th>\n",
       "      <td>Whew...</td>\n",
       "      <td>Star Wars</td>\n",
       "      <td>Star Wars</td>\n",
       "    </tr>\n",
       "  </tbody>\n",
       "</table>\n",
       "</div>"
      ],
      "text/plain": [
       "                                               dialogue who said it  \\\n",
       "2317                          Hyperloop Alpha at  and     Elon Musk   \n",
       "2598  Orbit raising burn successful. Dragon back on ...   Elon Musk   \n",
       "2045  Falcon/Dragon launch punted to early Jan. Need...   Elon Musk   \n",
       "2620  Genius move ?  Well, to be fair, they did use ...   Elon Musk   \n",
       "2174  Tesla US business leasing program went live to...   Elon Musk   \n",
       "1337                                   true, good point   Elon Musk   \n",
       "441   I felt a great disturbance in the Force... as ...   Star Wars   \n",
       "821                                               Luke.   Star Wars   \n",
       "225   Just received verbal govt approval for The Bor...   Elon Musk   \n",
       "406   I beg your pardon, General Solo, but that just...   Star Wars   \n",
       "2493                       Cool. Just read and watched!   Elon Musk   \n",
       "98    A midnight amendment, followed by a vigorously...   Elon Musk   \n",
       "434        I cannot teach him. The boy has no patience.   Star Wars   \n",
       "2692  Just returned from a trip to London and Oxford...   Elon Musk   \n",
       "2368  Bloomberg TV features debate of  vs some guy p...   Elon Musk   \n",
       "580                                         You will...   Star Wars   \n",
       "325                                              Artoo?   Star Wars   \n",
       "1245                                                      Elon Musk   \n",
       "529   All right! Up! Move! Come on! Quickly! Quickly...   Star Wars   \n",
       "94                                              Whew...   Star Wars   \n",
       "\n",
       "     who said it prediction  \n",
       "2317              Elon Musk  \n",
       "2598              Elon Musk  \n",
       "2045              Elon Musk  \n",
       "2620              Elon Musk  \n",
       "2174              Elon Musk  \n",
       "1337              Elon Musk  \n",
       "441               Star Wars  \n",
       "821               Star Wars  \n",
       "225               Elon Musk  \n",
       "406               Star Wars  \n",
       "2493              Elon Musk  \n",
       "98                Star Wars  \n",
       "434               Star Wars  \n",
       "2692              Elon Musk  \n",
       "2368              Elon Musk  \n",
       "580               Elon Musk  \n",
       "325               Star Wars  \n",
       "1245              Elon Musk  \n",
       "529               Star Wars  \n",
       "94                Star Wars  "
      ]
     },
     "execution_count": 513,
     "metadata": {},
     "output_type": "execute_result"
    }
   ],
   "source": [
    "#predict against our test data \n",
    "dialogue_tfidf_test = tfidf_vectorizer.transform(all_df_test['dialogue'])\n",
    "all_df_test['who said it prediction'] = sw_elon_clf.predict(dialogue_tfidf_test)\n",
    "all_df_test[0:20]"
   ]
  },
  {
   "cell_type": "code",
   "execution_count": 442,
   "metadata": {},
   "outputs": [
    {
     "name": "stdout",
     "output_type": "stream",
     "text": [
      "Accuracy score: 90.13409961685824\n"
     ]
    }
   ],
   "source": [
    "#run metrics\n",
    "from sklearn import metrics\n",
    "print(\"Accuracy score:\", metrics.accuracy_score(all_df_test['who said it'], all_df_test['who said it prediction']) * 100)"
   ]
  },
  {
   "cell_type": "code",
   "execution_count": 487,
   "metadata": {},
   "outputs": [
    {
     "data": {
      "text/plain": [
       "array([[489,  49],\n",
       "       [ 54, 452]])"
      ]
     },
     "execution_count": 487,
     "metadata": {},
     "output_type": "execute_result"
    }
   ],
   "source": [
    "#90% accuracy not bad! Let's take a quick peek at a confusion matrix to see a bit more about our accuracy\n",
    "cm = metrics.confusion_matrix(all_df_test['who said it'], all_df_test['who said it prediction'], labels=['Elon Musk', 'Star Wars'])\n",
    "cm"
   ]
  },
  {
   "cell_type": "code",
   "execution_count": 514,
   "metadata": {},
   "outputs": [
    {
     "data": {
      "text/plain": [
       "<function matplotlib.pyplot.show(*args, **kw)>"
      ]
     },
     "execution_count": 514,
     "metadata": {},
     "output_type": "execute_result"
    },
    {
     "data": {
      "image/png": "[encoded data removed]",
      "text/plain": [
       "<Figure size 576x576 with 2 Axes>"
      ]
     },
     "metadata": {},
     "output_type": "display_data"
    }
   ],
   "source": [
    "#not easy to read...notebooks have some nice UI capabilities. Lets make it visual using matplotlib\n",
    "import matplotlib.pyplot as plt\n",
    "from itertools import product\n",
    "\n",
    "plt.figure(figsize=(8, 8))\n",
    "plt.imshow(cm, interpolation='nearest', cmap=\"RdYlGn\")\n",
    "plt.tight_layout()\n",
    "plt.colorbar()\n",
    "\n",
    "plt.title('Who Said It Confusion Matrix', fontsize=20)\n",
    "plt.xlabel('Predicted', fontsize=20)\n",
    "plt.ylabel('Actual', fontsize=20)\n",
    "\n",
    "classes = ['Elon Musk', 'Star Wars']\n",
    "tick_marks = np.arange(len(classes))\n",
    "plt.xticks(tick_marks, classes, fontsize=20, rotation=45)\n",
    "plt.yticks(tick_marks, classes, fontsize=20)\n",
    "\n",
    "#iterate through matrix and plot values\n",
    "for i, j in product(range(cm.shape[0]), range(cm.shape[1])):\n",
    "    plt.text(j, i, cm[i, j], horizontalalignment=\"center\", color=\"white\", fontsize=40)\n",
    "    \n",
    "plt.show"
   ]
  },
  {
   "cell_type": "markdown",
   "metadata": {},
   "source": [
    "The confusion matrix shows that there were:\n",
    "* 489 predictions where the actual and predicted value was Elon Musk\n",
    "* 452 predictions where both the actual and predicted value was Star Wars\n",
    "* 49 predictions where the actual value was Elon Musk but the predicted value was Star Wars\n",
    "* 54 predictions where the actual value was Star Wars but the predicted value was Elon Musk"
   ]
  },
  {
   "cell_type": "code",
   "execution_count": null,
   "metadata": {},
   "outputs": [],
   "source": []
  },
  {
   "cell_type": "markdown",
   "metadata": {},
   "source": [
    "### Pipelines\n",
    "Once we build our model, we will probably want to use it to predict and classify future lines. It's important that we preprocess and vectorize any future data the same way in which it was built before feeding it in for classification. Scikit-learn provides the concept of pipelines that are objects that can store all the necessary steps to process data."
   ]
  },
  {
   "cell_type": "code",
   "execution_count": 515,
   "metadata": {},
   "outputs": [
    {
     "data": {
      "text/plain": [
       "array(['Star Wars'], dtype='<U9')"
      ]
     },
     "execution_count": 515,
     "metadata": {},
     "output_type": "execute_result"
    }
   ],
   "source": [
    "test_line = \"may the force be with you\"\n",
    "test_line_tfidf = tfidf_vectorizer.transform([test_line,])\n",
    "sw_elon_clf.predict(test_line_tfidf)"
   ]
  },
  {
   "cell_type": "code",
   "execution_count": 516,
   "metadata": {},
   "outputs": [],
   "source": [
    "#That is not only a pain, but what if we don't know where to find the vectorizer or use the wrong one. \n",
    "#To solve this, lets package them up together as steps in a pipeline\n",
    "from sklearn.pipeline import Pipeline\n",
    "sw_elon_clf_pipe = Pipeline([\n",
    "    ('vect', tfidf_vectorizer),\n",
    "    ('clf', sw_elon_clf),\n",
    "])"
   ]
  },
  {
   "cell_type": "code",
   "execution_count": 517,
   "metadata": {},
   "outputs": [
    {
     "data": {
      "text/plain": [
       "array(['Star Wars'], dtype='<U9')"
      ]
     },
     "execution_count": 517,
     "metadata": {},
     "output_type": "execute_result"
    }
   ],
   "source": [
    "#now we can predict and let the pipeline do the work of processing the input into all the necessary steps\n",
    "sw_elon_clf_pipe.predict([test_line,])"
   ]
  },
  {
   "cell_type": "code",
   "execution_count": 537,
   "metadata": {},
   "outputs": [
    {
     "data": {
      "text/plain": [
       "['sw_elon_model.pkl']"
      ]
     },
     "execution_count": 537,
     "metadata": {},
     "output_type": "execute_result"
    }
   ],
   "source": [
    "#Lets save our model to use later\n",
    "from sklearn.externals import joblib\n",
    "joblib.dump(sw_elon_clf_pipe, 'sw_elon_model.pkl')"
   ]
  },
  {
   "cell_type": "code",
   "execution_count": null,
   "metadata": {},
   "outputs": [],
   "source": []
  },
  {
   "cell_type": "code",
   "execution_count": 541,
   "metadata": {},
   "outputs": [
    {
     "data": {
      "text/html": [
       "<div>\n",
       "<style scoped>\n",
       "    .dataframe tbody tr th:only-of-type {\n",
       "        vertical-align: middle;\n",
       "    }\n",
       "\n",
       "    .dataframe tbody tr th {\n",
       "        vertical-align: top;\n",
       "    }\n",
       "\n",
       "    .dataframe thead th {\n",
       "        text-align: right;\n",
       "    }\n",
       "</style>\n",
       "<table border=\"1\" class=\"dataframe\">\n",
       "  <thead>\n",
       "    <tr style=\"text-align: right;\">\n",
       "      <th></th>\n",
       "      <th>Text</th>\n",
       "      <th>Prediction</th>\n",
       "    </tr>\n",
       "  </thead>\n",
       "  <tbody>\n",
       "    <tr>\n",
       "      <th>0</th>\n",
       "      <td>may the force be with you</td>\n",
       "      <td>Star Wars</td>\n",
       "    </tr>\n",
       "    <tr>\n",
       "      <th>1</th>\n",
       "      <td>i love tesla</td>\n",
       "      <td>Elon Musk</td>\n",
       "    </tr>\n",
       "    <tr>\n",
       "      <th>2</th>\n",
       "      <td>i am your father</td>\n",
       "      <td>Star Wars</td>\n",
       "    </tr>\n",
       "    <tr>\n",
       "      <th>3</th>\n",
       "      <td>seagulls stop it now</td>\n",
       "      <td>Star Wars</td>\n",
       "    </tr>\n",
       "    <tr>\n",
       "      <th>4</th>\n",
       "      <td>the next SAP teched should be on Mars</td>\n",
       "      <td>Elon Musk</td>\n",
       "    </tr>\n",
       "    <tr>\n",
       "      <th>5</th>\n",
       "      <td>come to the dark side, we have cookies</td>\n",
       "      <td>Star Wars</td>\n",
       "    </tr>\n",
       "  </tbody>\n",
       "</table>\n",
       "</div>"
      ],
      "text/plain": [
       "                                     Text Prediction\n",
       "0               may the force be with you  Star Wars\n",
       "1                            i love tesla  Elon Musk\n",
       "2                        i am your father  Star Wars\n",
       "3                    seagulls stop it now  Star Wars\n",
       "4   the next SAP teched should be on Mars  Elon Musk\n",
       "5  come to the dark side, we have cookies  Star Wars"
      ]
     },
     "execution_count": 541,
     "metadata": {},
     "output_type": "execute_result"
    }
   ],
   "source": [
    "#Let's load it back up and run some fun tests\n",
    "sw_elon_clf_pipe = joblib.load('sw_elon_model.pkl')\n",
    "test_lines = [\n",
    "    'may the force be with you', \n",
    "    'i love tesla', \n",
    "    'i am your father', \n",
    "    'seagulls stop it now', \n",
    "    'the next SAP teched should be on Mars',\n",
    "    'come to the dark side, we have cookies',\n",
    "]\n",
    "\n",
    "test_predictions = sw_elon_clf_pipe.predict(test_lines)\n",
    "\n",
    "test_results_df = pd.DataFrame({\"Text\": test_lines, \"Prediction\": test_predictions})\n",
    "test_results_df"
   ]
  },
  {
   "cell_type": "markdown",
   "metadata": {},
   "source": [
    "There you have it, Elon Musk loves SAP TechEd and Star Wars loves cookies."
   ]
  },
  {
   "cell_type": "markdown",
   "metadata": {},
   "source": [
    "### Conclusion"
   ]
  },
  {
   "cell_type": "markdown",
   "metadata": {},
   "source": [
    "There are many models available in Scikit-Learn and that doesn't even compare to the different types of algorithms and models available out in the bigger world. The word science part of Data Science is very accurate due to the research, development, implement, tweak, repeat nature of ML. "
   ]
  },
  {
   "cell_type": "code",
   "execution_count": null,
   "metadata": {},
   "outputs": [],
   "source": []
  }
 ],
 "metadata": {
  "kernelspec": {
   "display_name": "Python 3",
   "language": "python",
   "name": "python3"
  },
  "language_info": {
   "codemirror_mode": {
    "name": "ipython",
    "version": 3
   },
   "file_extension": ".py",
   "mimetype": "text/x-python",
   "name": "python",
   "nbconvert_exporter": "python",
   "pygments_lexer": "ipython3",
   "version": "3.6.5"
  }
 },
 "nbformat": 4,
 "nbformat_minor": 2
}
